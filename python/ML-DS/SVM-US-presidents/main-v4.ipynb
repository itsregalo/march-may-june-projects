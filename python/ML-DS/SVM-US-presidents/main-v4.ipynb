{
 "cells": [
  {
   "cell_type": "code",
   "execution_count": 1,
   "metadata": {},
   "outputs": [],
   "source": [
    "# image classification using SVM\n",
    "\n",
    "# import the necessary packages\n",
    "from sklearn.svm import LinearSVC\n",
    "from sklearn.preprocessing import LabelEncoder\n",
    "from sklearn.model_selection import train_test_split\n",
    "from imutils import paths\n",
    "import numpy as np\n",
    "import argparse\n",
    "import imutils\n",
    "import cv2\n",
    "import os\n",
    "\n",
    "import pandas as pd\n",
    "import matplotlib.pyplot as plt\n",
    "%matplotlib inline\n",
    "import os\n",
    "from tqdm import tqdm"
   ]
  },
  {
   "cell_type": "code",
   "execution_count": 2,
   "metadata": {},
   "outputs": [],
   "source": [
    "# training data path\n",
    "train_path = 'data/training'\n",
    "\n",
    "# testing data path\n",
    "test_path = 'data/testing'\n",
    "\n",
    "# get the training image paths\n",
    "train_image_paths = list(paths.list_images(train_path))\n",
    "\n",
    "# get the testing image paths\n",
    "test_image_paths = list(paths.list_images(test_path))"
   ]
  },
  {
   "cell_type": "code",
   "execution_count": 3,
   "metadata": {},
   "outputs": [],
   "source": [
    "CATEGORIES = [\"abraham-lincoln\",\n",
    "                \"andrew-jackson\",\n",
    "                \"andrew-johnson\",\n",
    "                \"barack-obama\",\n",
    "                \"benjamin-harrison\",\n",
    "                \"calvin-coolidge\",\n",
    "                \"chester-a-arthur\",\n",
    "                \"donald-trump\",\n",
    "                \"dwight-eisenhower\",\n",
    "                \"franklin-pierce\",\n",
    "                \"franklin-roosevelt\",\n",
    "                \"george-h-w-bush\",\n",
    "                \"george-w-bush\",\n",
    "                \"george-washington\",\n",
    "                \"gerald-ford\",\n",
    "                \"glover-cleveland\",\n",
    "                \"harry-truman\",\n",
    "                \"herbert-hoover\",\n",
    "                \"james-buchanan\",\n",
    "                \"james-earl-carter\",\n",
    "                \"james-garfield\",\n",
    "                \"james-madison\",\n",
    "                \"james-monroe\",\n",
    "                \"james-polk\",\n",
    "                \"joe-biden\",\n",
    "                \"john-adams\",\n",
    "                \"john-f-kennedy\",\n",
    "                \"john-quincy-adams\",\n",
    "                \"john-tyler\",\n",
    "                \"lyndon-johnson\",\n",
    "                \"martin-van-buren\",\n",
    "                \"millard-fillmore\",\n",
    "                \"richard-nixon\",\n",
    "                \"ronald-reagan\",\n",
    "                \"rutherford-hayes\",\n",
    "                \"theodore-roosevelt\",\n",
    "                \"thomas-jefferson\",\n",
    "                \"ulysses-grant\",\n",
    "                \"warren-harding\",\n",
    "                \"william-henry-harrison\",\n",
    "                \"william-howard-taft\",\n",
    "                \"william-jefferson-clinton\",\n",
    "                \"william-mckinley\",\n",
    "                \"woodrow-wilson\",\n",
    "                \"zachary-taylor\"\n",
    "                ]\n",
    "IMG_SIZE = 100"
   ]
  },
  {
   "cell_type": "code",
   "execution_count": 4,
   "metadata": {},
   "outputs": [],
   "source": [
    "# initialize the data and labels\n",
    "training_data = []\n",
    "\n",
    "# "
   ]
  }
 ],
 "metadata": {
  "interpreter": {
   "hash": "13c4fa65054c0d3bfb9dbdc50fbf8af2a6ced466e99fd692bb576917c08ad093"
  },
  "kernelspec": {
   "display_name": "Python 3.8.8 ('base')",
   "language": "python",
   "name": "python3"
  },
  "language_info": {
   "codemirror_mode": {
    "name": "ipython",
    "version": 3
   },
   "file_extension": ".py",
   "mimetype": "text/x-python",
   "name": "python",
   "nbconvert_exporter": "python",
   "pygments_lexer": "ipython3",
   "version": "3.8.8"
  },
  "orig_nbformat": 4
 },
 "nbformat": 4,
 "nbformat_minor": 2
}
