{
 "cells": [
  {
   "cell_type": "code",
   "execution_count": 1,
   "metadata": {},
   "outputs": [],
   "source": [
    "# image classification using SVM\n",
    "\n",
    "# import the necessary packages\n",
    "from sklearn.svm import LinearSVC\n",
    "from sklearn.preprocessing import LabelEncoder\n",
    "from sklearn.model_selection import train_test_split\n",
    "from imutils import paths\n",
    "import numpy as np\n",
    "import argparse\n",
    "import imutils\n",
    "import cv2\n",
    "import os\n",
    "\n",
    "import pandas as pd\n",
    "import matplotlib.pyplot as plt\n",
    "%matplotlib inline\n",
    "import os\n",
    "from tqdm import tqdm\n"
   ]
  },
  {
   "cell_type": "code",
   "execution_count": 20,
   "metadata": {},
   "outputs": [
    {
     "name": "stderr",
     "output_type": "stream",
     "text": [
      "100%|██████████| 709/709 [00:07<00:00, 90.22it/s] \n"
     ]
    }
   ],
   "source": [
    "# training data path\n",
    "train_path = 'data/training'\n",
    "\n",
    "# testing data path\n",
    "test_path = 'data/testing'\n",
    "\n",
    "# get the training image paths\n",
    "train_image_paths = list(paths.list_images(train_path))\n",
    "\n",
    "# get the testing image paths\n",
    "test_image_paths = list(paths.list_images(test_path))\n",
    "\n",
    "# initialize the data and labels\n",
    "training_data = []\n",
    "training_labels = []\n",
    "\n",
    "# loop over the training images\n",
    "for image_path in tqdm(train_image_paths):\n",
    "    # load the image and extract the class label assuming\n",
    "    # that our path has the following format:\n",
    "    # /path/to/dataset/{class}/{image}.jpg\n",
    "    image = cv2.imread(image_path)\n",
    "    label = image_path.split(os.path.sep)[-2]\n",
    "\n",
    "    # resize the image to be a fixed 96x96 pixels, ignoring\n",
    "    # aspect ratio\n",
    "    image = cv2.resize(image, (96, 96))\n",
    "\n",
    "    # update the data and labels lists, respectively\n",
    "    training_data.append(image)\n",
    "    training_labels.append(label)"
   ]
  },
  {
   "cell_type": "code",
   "execution_count": 21,
   "metadata": {},
   "outputs": [
    {
     "name": "stdout",
     "output_type": "stream",
     "text": [
      "[INFO] training data: 709\n"
     ]
    }
   ],
   "source": [
    "print(\"[INFO] training data: {}\".format(len(training_data)))\n",
    "len_training_data = len(training_data)"
   ]
  },
  {
   "cell_type": "code",
   "execution_count": 22,
   "metadata": {},
   "outputs": [],
   "source": [
    "X = np.array(training_data).reshape(len_training_data, -1)\n",
    "y = np.array(training_labels)"
   ]
  },
  {
   "cell_type": "code",
   "execution_count": 23,
   "metadata": {},
   "outputs": [
    {
     "data": {
      "text/plain": [
       "(709, 27648)"
      ]
     },
     "execution_count": 23,
     "metadata": {},
     "output_type": "execute_result"
    }
   ],
   "source": [
    "X.shape"
   ]
  },
  {
   "cell_type": "code",
   "execution_count": 24,
   "metadata": {},
   "outputs": [
    {
     "data": {
      "text/plain": [
       "array([0.31764706, 0.31764706, 0.31764706, ..., 0.19215686, 0.19215686,\n",
       "       0.19215686])"
      ]
     },
     "execution_count": 24,
     "metadata": {},
     "output_type": "execute_result"
    }
   ],
   "source": [
    "#flatten the images\n",
    "X = X/255.0\n",
    "X[1]"
   ]
  },
  {
   "cell_type": "code",
   "execution_count": 25,
   "metadata": {},
   "outputs": [
    {
     "data": {
      "text/plain": [
       "(709,)"
      ]
     },
     "execution_count": 25,
     "metadata": {},
     "output_type": "execute_result"
    }
   ],
   "source": [
    "y = np.array(y)\n",
    "y.shape"
   ]
  },
  {
   "cell_type": "code",
   "execution_count": 28,
   "metadata": {},
   "outputs": [
    {
     "name": "stderr",
     "output_type": "stream",
     "text": [
      "100%|██████████| 267/267 [00:00<00:00, 360.96it/s]\n"
     ]
    }
   ],
   "source": [
    "testing_data = []\n",
    "testing_labels = []\n",
    "\n",
    "# loop over the testing images\n",
    "for image_path in tqdm(test_image_paths):\n",
    "    # load the image and extract the class label assuming\n",
    "    # that our path has the following format:\n",
    "    # /path/to/dataset/{class}/{image}.jpg\n",
    "    image = cv2.imread(image_path)\n",
    "    label = image_path.split(os.path.sep)[-2]\n",
    "\n",
    "    # resize the image to be a fixed 96x96 pixels, ignoring\n",
    "    # aspect ratio\n",
    "    image = cv2.resize(image, (96, 96))\n",
    "\n",
    "    # update the data and labels lists, respectively\n",
    "    testing_data.append(image)\n",
    "    testing_labels.append(label)\n",
    "\n"
   ]
  },
  {
   "cell_type": "code",
   "execution_count": 31,
   "metadata": {},
   "outputs": [],
   "source": [
    "len(testing_data)\n",
    "len_testing_data = len(testing_data)"
   ]
  },
  {
   "cell_type": "code",
   "execution_count": 32,
   "metadata": {},
   "outputs": [],
   "source": [
    "testing_data = np.array(testing_data).reshape(len_testing_data, -1)\n",
    "testing_labels = np.array(testing_labels)"
   ]
  },
  {
   "cell_type": "code",
   "execution_count": 35,
   "metadata": {},
   "outputs": [
    {
     "data": {
      "text/plain": [
       "array([0.00370627, 0.00370627, 0.00370627, ..., 0.00278354, 0.00278354,\n",
       "       0.00278354])"
      ]
     },
     "execution_count": 35,
     "metadata": {},
     "output_type": "execute_result"
    }
   ],
   "source": [
    "testing_data.shape\n",
    "testing_data = testing_data/255.0\n",
    "testing_data[1]"
   ]
  },
  {
   "cell_type": "code",
   "execution_count": 37,
   "metadata": {},
   "outputs": [
    {
     "name": "stderr",
     "output_type": "stream",
     "text": [
      "/home/retech/anaconda3/lib/python3.8/site-packages/sklearn/svm/_base.py:985: ConvergenceWarning: Liblinear failed to converge, increase the number of iterations.\n",
      "  warnings.warn(\"Liblinear failed to converge, increase \"\n"
     ]
    },
    {
     "data": {
      "text/plain": [
       "LinearSVC(C=100.0, random_state=42)"
      ]
     },
     "execution_count": 37,
     "metadata": {},
     "output_type": "execute_result"
    }
   ],
   "source": [
    "# fitting the data to the model\n",
    "model = LinearSVC(C=100.0, random_state=42)\n",
    "model.fit(X, y)\n"
   ]
  },
  {
   "cell_type": "code",
   "execution_count": 38,
   "metadata": {},
   "outputs": [],
   "source": [
    "# predict the testing data\n",
    "predictions = model.predict(testing_data)"
   ]
  },
  {
   "cell_type": "code",
   "execution_count": 39,
   "metadata": {},
   "outputs": [
    {
     "data": {
      "text/plain": [
       "0.033707865168539325"
      ]
     },
     "execution_count": 39,
     "metadata": {},
     "output_type": "execute_result"
    }
   ],
   "source": [
    "# accuracy_score\n",
    "from sklearn.metrics import accuracy_score\n",
    "accuracy_score(testing_labels, predictions)"
   ]
  },
  {
   "cell_type": "code",
   "execution_count": 40,
   "metadata": {},
   "outputs": [
    {
     "name": "stdout",
     "output_type": "stream",
     "text": [
      "                           precision    recall  f1-score   support\n",
      "\n",
      "          abraham-lincoln       0.00      0.00      0.00         6\n",
      "           andrew-jackson       0.00      0.00      0.00         6\n",
      "           andrew-johnson       0.00      0.00      0.00         6\n",
      "             barack-obama       0.00      0.00      0.00         6\n",
      "        benjamin-harrison       0.00      0.00      0.00         6\n",
      "          calvin-coolidge       0.00      0.00      0.00         6\n",
      "           chester-arthur       0.00      0.00      0.00         6\n",
      "             donald-trump       0.17      0.17      0.17         6\n",
      "        dwight-eisenhower       0.00      0.00      0.00         6\n",
      "          franklin-pierce       0.00      0.00      0.00         6\n",
      "       franklin-roosevelt       0.00      0.00      0.00         6\n",
      "          george-h-w-bush       0.00      0.00      0.00         6\n",
      "            george-w-bush       0.25      0.17      0.20         6\n",
      "        george-washington       1.00      0.33      0.50         6\n",
      "              gerald-ford       0.00      0.00      0.00         6\n",
      "         glover-cleveland       0.00      0.00      0.00         5\n",
      "             harry-truman       0.00      0.00      0.00         6\n",
      "           herbert-hoover       0.00      0.00      0.00         6\n",
      "           james-buchanan       0.00      0.00      0.00         6\n",
      "        james-earl-carter       0.00      0.00      0.00         6\n",
      "           james-garfield       0.00      0.00      0.00         5\n",
      "            james-madison       0.00      0.00      0.00         6\n",
      "             james-monroe       0.00      0.00      0.00         6\n",
      "               james-polk       0.00      0.00      0.00         6\n",
      "                joe-biden       0.02      0.80      0.05         5\n",
      "               john-adams       0.00      0.00      0.00         6\n",
      "           john-f-kennedy       0.00      0.00      0.00         0\n",
      "             john-kennedy       0.00      0.00      0.00         6\n",
      "         john-quicy-adams       0.00      0.00      0.00         6\n",
      "               john-tyler       0.00      0.00      0.00         6\n",
      "           lyndon-johnson       0.00      0.00      0.00         6\n",
      "         martin-van-buren       0.00      0.00      0.00         6\n",
      "          millard-filmore       0.00      0.00      0.00         6\n",
      "            richard-nixon       0.00      0.00      0.00         6\n",
      "            ronald-reagan       0.00      0.00      0.00         6\n",
      "         rutherford-hayes       0.00      0.00      0.00         6\n",
      "       theodore-roosevelt       0.00      0.00      0.00         6\n",
      "         thomas-jefferson       0.00      0.00      0.00         6\n",
      "            ulysses-grant       0.50      0.17      0.25         6\n",
      "            warren-hardin       0.00      0.00      0.00         6\n",
      "   william-henry-harrison       0.00      0.00      0.00         6\n",
      "          william-horward       0.00      0.00      0.00         6\n",
      "william-jefferson-clinton       0.00      0.00      0.00         6\n",
      "         william-mckinley       0.00      0.00      0.00         6\n",
      "           woodrow-wilson       0.00      0.00      0.00         6\n",
      "           zachary-taylor       0.00      0.00      0.00         6\n",
      "\n",
      "                 accuracy                           0.03       267\n",
      "                macro avg       0.04      0.04      0.03       267\n",
      "             weighted avg       0.04      0.03      0.03       267\n",
      "\n"
     ]
    },
    {
     "name": "stderr",
     "output_type": "stream",
     "text": [
      "/home/retech/anaconda3/lib/python3.8/site-packages/sklearn/metrics/_classification.py:1245: UndefinedMetricWarning: Precision and F-score are ill-defined and being set to 0.0 in labels with no predicted samples. Use `zero_division` parameter to control this behavior.\n",
      "  _warn_prf(average, modifier, msg_start, len(result))\n",
      "/home/retech/anaconda3/lib/python3.8/site-packages/sklearn/metrics/_classification.py:1245: UndefinedMetricWarning: Recall and F-score are ill-defined and being set to 0.0 in labels with no true samples. Use `zero_division` parameter to control this behavior.\n",
      "  _warn_prf(average, modifier, msg_start, len(result))\n",
      "/home/retech/anaconda3/lib/python3.8/site-packages/sklearn/metrics/_classification.py:1245: UndefinedMetricWarning: Precision and F-score are ill-defined and being set to 0.0 in labels with no predicted samples. Use `zero_division` parameter to control this behavior.\n",
      "  _warn_prf(average, modifier, msg_start, len(result))\n",
      "/home/retech/anaconda3/lib/python3.8/site-packages/sklearn/metrics/_classification.py:1245: UndefinedMetricWarning: Recall and F-score are ill-defined and being set to 0.0 in labels with no true samples. Use `zero_division` parameter to control this behavior.\n",
      "  _warn_prf(average, modifier, msg_start, len(result))\n",
      "/home/retech/anaconda3/lib/python3.8/site-packages/sklearn/metrics/_classification.py:1245: UndefinedMetricWarning: Precision and F-score are ill-defined and being set to 0.0 in labels with no predicted samples. Use `zero_division` parameter to control this behavior.\n",
      "  _warn_prf(average, modifier, msg_start, len(result))\n",
      "/home/retech/anaconda3/lib/python3.8/site-packages/sklearn/metrics/_classification.py:1245: UndefinedMetricWarning: Recall and F-score are ill-defined and being set to 0.0 in labels with no true samples. Use `zero_division` parameter to control this behavior.\n",
      "  _warn_prf(average, modifier, msg_start, len(result))\n"
     ]
    }
   ],
   "source": [
    "# fromulating the Classification report\n",
    "from sklearn.metrics import classification_report\n",
    "print(classification_report(testing_labels, predictions))"
   ]
  }
 ],
 "metadata": {
  "interpreter": {
   "hash": "13c4fa65054c0d3bfb9dbdc50fbf8af2a6ced466e99fd692bb576917c08ad093"
  },
  "kernelspec": {
   "display_name": "Python 3.8.8 ('base')",
   "language": "python",
   "name": "python3"
  },
  "language_info": {
   "codemirror_mode": {
    "name": "ipython",
    "version": 3
   },
   "file_extension": ".py",
   "mimetype": "text/x-python",
   "name": "python",
   "nbconvert_exporter": "python",
   "pygments_lexer": "ipython3",
   "version": "3.8.8"
  },
  "orig_nbformat": 4
 },
 "nbformat": 4,
 "nbformat_minor": 2
}
