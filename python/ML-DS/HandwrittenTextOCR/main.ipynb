{
 "cells": [
  {
   "cell_type": "code",
   "execution_count": null,
   "metadata": {},
   "outputs": [],
   "source": [
    "# installing kaggle so as to get data\n",
    "pip install -q kaggle\n",
    "from google.colab import files\n",
    "files.upload()"
   ]
  },
  {
   "cell_type": "code",
   "execution_count": null,
   "metadata": {},
   "outputs": [],
   "source": [
    "mkdir ~/.kaggle\n",
    "cp kaggle.json ~/.kaggle/\n",
    "chmod 600 ~/.kaggle/kaggle.json\n",
    "kaggle datasets download -d landlord/handwriting-recognition\n",
    "unzip handwriting-recognition"
   ]
  },
  {
   "cell_type": "code",
   "execution_count": null,
   "metadata": {},
   "outputs": [],
   "source": [
    "# importing libraries\n",
    "import numpy as np\n",
    "import pandas as pd\n",
    "import matplotlib.pyplot as plt\n",
    "import seaborn as sns\n",
    "import os\n",
    "import cv2\n",
    "import tensorflow as tf\n",
    "from tensorflow.keras.models import Sequential\n"
   ]
  },
  {
   "cell_type": "code",
   "execution_count": null,
   "metadata": {},
   "outputs": [],
   "source": [
    "# importing the dataset\n",
    "train_dir = '/content/train_v2/train'\n",
    "test_dir = '/content/test_v2/test'\n",
    "train_df = pd.read_csv('/content/written_name_train_v2.csv')\n",
    "test_df = pd.read_csv('/content/written_name_test_v2.csv')\n",
    "\n",
    "# checking the shape of the dataset\n",
    "train_df.shape\n",
    "test_df.shape\n"
   ]
  },
  {
   "cell_type": "code",
   "execution_count": null,
   "metadata": {},
   "outputs": [],
   "source": [
    "# checking the first 5 rows of the dataset\n",
    "train_df.head()\n",
    "test_df.head()"
   ]
  },
  {
   "cell_type": "code",
   "execution_count": null,
   "metadata": {},
   "outputs": [],
   "source": [
    "plt.figure(figsize= (25,20))\n",
    "for i in range(8):\n",
    "    image = cv2.imread('../input/handwriting-recognition/train_v2/train/' + train_csv.loc[i, 'FILENAME'])\n",
    "    plt.subplot(4, 2, i+1)\n",
    "    plt.imshow(image)\n",
    "    # Image data of dtype object cannot be converted to float\n",
    "    \n",
    "    plt.title(train_csv.loc[i,'IDENTITY'], fontsize = 25)\n",
    "    plt.axis('off')\n",
    "    \n",
    "plt.subplots_adjust(wspace = 0.2, hspace = -0.5)"
   ]
  }
 ],
 "metadata": {
  "language_info": {
   "name": "python"
  },
  "orig_nbformat": 4
 },
 "nbformat": 4,
 "nbformat_minor": 2
}
