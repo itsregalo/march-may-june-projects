{
 "cells": [
  {
   "cell_type": "code",
   "execution_count": null,
   "metadata": {},
   "outputs": [],
   "source": [
    "import cv2\n",
    "import numpy as np\n",
    "import matplotlib.pyplot as plt\n",
    "from skimage.feature import hog\n",
    "from sklearn.svm import SVC\n",
    "from sklearn.model_selection import train_test_split\n",
    "from sklearn.metrics import accuracy_score\n",
    "from sklearn.metrics import confusion_matrix\n",
    "from sklearn.metrics import classification_report\n",
    "# import sequential model\n",
    "from keras.models import Sequential\n",
    "from keras.layers import Dense, Dropout, Flatten, Conv2D, MaxPooling2D\n",
    "from keras.utils import np_utils\n",
    "\n",
    "# Xception\n",
    "from keras.applications.xception import Xception\n",
    "\n",
    "# Batch Normalization\n",
    "from keras.layers import BatchNormalization\n",
    "import tensorflow as tf"
   ]
  },
  {
   "cell_type": "code",
   "execution_count": null,
   "metadata": {},
   "outputs": [],
   "source": [
    "size = 249\n",
    "target_size = (size,size,3)"
   ]
  },
  {
   "cell_type": "code",
   "execution_count": null,
   "metadata": {},
   "outputs": [],
   "source": [
    "# ImageDataGenerator\n",
    "from keras.preprocessing.image import ImageDataGenerator\n",
    "\n",
    "train_datagen1 = ImageDataGenerator(horizontal_flip=True,\n",
    "                                   width_shift_range=0.4,\n",
    "                                   height_shift_range=0.4,\n",
    "                                   zoom_range=0.3,\n",
    "                                   rotation_range=20,\n",
    "                                   rescale=1./255)\n",
    "\n",
    "train_gen1 = train_datagen1.flow_from_directory('/content/Dataset/Train',\n",
    "                                              target_size=(size,size),\n",
    "                                              batch_size=32,\n",
    "                                              class_mode='binary')"
   ]
  },
  {
   "cell_type": "code",
   "execution_count": null,
   "metadata": {},
   "outputs": [],
   "source": [
    "test_datagen1 = ImageDataGenerator(rescale=1./255)\n",
    "\n",
    "test_gen1 = test_datagen1.flow_from_directory('/content/Dataset/Validation',\n",
    "                                              target_size=(size,size),\n",
    "                                              batch_size=32,\n",
    "                                              class_mode='binary')"
   ]
  },
  {
   "cell_type": "code",
   "execution_count": null,
   "metadata": {},
   "outputs": [],
   "source": [
    "train_datagen2 = ImageDataGenerator(rescale=1./255,\n",
    "                                    rotation_range=30,\n",
    "                                    shear_range=0.3,\n",
    "                                    zoom_range=0.3,\n",
    "                                    horizontal_flip=True,\n",
    "                                    #width_shift_range=0.4,\n",
    "                                    #height_shift_range=0.4,\n",
    "                                   )\n",
    "\n",
    "train_gen2 =train_datagen2.flow_from_directory('/content/Dataset/Train',\n",
    "                                            target_size=(size,size),\n",
    "                                            batch_size=64,\n",
    "                                            class_mode='binary')"
   ]
  },
  {
   "cell_type": "code",
   "execution_count": null,
   "metadata": {},
   "outputs": [],
   "source": [
    "# explore the data using histogram of gradients\n",
    "\n",
    "def plot_hog_2d(img):\n",
    "    fd, hog_image = hog(img, orientations=8, pixels_per_cell=(16, 16),\n",
    "                        cells_per_block=(1, 1), visualize=True, multichannel=True)\n",
    "    fig, (ax1, ax2) = plt.subplots(1, 2, figsize=(8, 4))\n",
    "    ax1.axis('off')\n",
    "    ax1.imshow(img, cmap=plt.cm.gray)\n",
    "    ax1.set_title('Input image')\n",
    "    ax2.imshow(hog_image, cmap=plt.cm.gray)\n",
    "    ax2.set_title('Histogram of Oriented Gradients')\n",
    "    plt.show()\n",
    "\n",
    "\n",
    "plot_hog_2d(train_gen1[0][0][0])"
   ]
  },
  {
   "cell_type": "code",
   "execution_count": null,
   "metadata": {},
   "outputs": [],
   "source": [
    "# prepare data for SVM model using HOG\n",
    "import os\n",
    "# extract features from each image in the training dataset\n",
    "training_features = []\n",
    "training_labels = []\n",
    "\n",
    "\n",
    "\n",
    "# loop over the training data\n",
    "for image in train_gen1:\n",
    "    image\n"
   ]
  },
  {
   "cell_type": "code",
   "execution_count": null,
   "metadata": {},
   "outputs": [],
   "source": []
  }
 ],
 "metadata": {
  "language_info": {
   "name": "python"
  },
  "orig_nbformat": 4
 },
 "nbformat": 4,
 "nbformat_minor": 2
}
