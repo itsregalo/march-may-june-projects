{
 "cells": [
  {
   "cell_type": "code",
   "execution_count": null,
   "metadata": {},
   "outputs": [],
   "source": [
    "\"\"\"\"\n",
    "comparative evaluation of histogram of oriented gradients HoG and a Convolutional Neural Network trained from the scratch (which means designing your own CNN)\n",
    "for gender classification task on a subset of CelebA dataset. Provide detailed information on the steps involved and record your observations ,\n",
    "which model performed better and why\n",
    "\"\"\""
   ]
  },
  {
   "cell_type": "code",
   "execution_count": null,
   "metadata": {},
   "outputs": [],
   "source": [
    "# import packages for Histogram of Oriented Gradients (HoG) and Convolutional Neural Network (CNN)\n",
    "import cv2\n",
    "import numpy as np\n",
    "import matplotlib.pyplot as plt\n",
    "from skimage.feature import hog"
   ]
  },
  {
   "cell_type": "code",
   "execution_count": null,
   "metadata": {},
   "outputs": [],
   "source": [
    "size = 249\n",
    "target_size = (size,size,3)"
   ]
  }
 ],
 "metadata": {
  "language_info": {
   "name": "python"
  },
  "orig_nbformat": 4
 },
 "nbformat": 4,
 "nbformat_minor": 2
}
