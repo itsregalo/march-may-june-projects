{
 "cells": [
  {
   "cell_type": "code",
   "execution_count": null,
   "metadata": {},
   "outputs": [],
   "source": [
    "\"\"\"\"\n",
    "comparative evaluation of histogram of oriented gradients HoG and a Convolutional Neural Network trained from the scratch (which means designing your own CNN)\n",
    "for gender classification task on a subset of CelebA dataset. Provide detailed information on the steps involved and record your observations ,\n",
    "which model performed better and why\n",
    "\"\"\""
   ]
  },
  {
   "cell_type": "code",
   "execution_count": null,
   "metadata": {},
   "outputs": [],
   "source": [
    "# installing kaggle so as to get data\n",
    "!pip install -q kaggle\n",
    "from google.colab import files\n",
    "files.upload()"
   ]
  },
  {
   "cell_type": "code",
   "execution_count": null,
   "metadata": {},
   "outputs": [],
   "source": [
    "# creating a kaggle folder\n",
    "!mkdir ~/.kaggle\n",
    "!cp kaggle.json ~/.kaggle/\n",
    "! chmod 600 ~/.kaggle/kaggle.json\n",
    "!kaggle datasets download -d ashishjangra27/gender-recognition-200k-images-celeba"
   ]
  },
  {
   "cell_type": "code",
   "execution_count": null,
   "metadata": {},
   "outputs": [],
   "source": [
    "!unzip gender-recognition-200k-images-celeba.zip"
   ]
  },
  {
   "cell_type": "code",
   "execution_count": null,
   "metadata": {},
   "outputs": [],
   "source": [
    "import os\n",
    "import cv2\n",
    "import numpy as np\n",
    "import matplotlib.pyplot as plt\n",
    "from skimage.feature import hog\n",
    "from keras.models import Sequential\n",
    "from keras.layers import Dense, Dropout, Flatten, Conv2D, MaxPooling2D\n",
    "from keras.utils import np_utils\n",
    "import tensorflow as tf"
   ]
  },
  {
   "cell_type": "code",
   "execution_count": null,
   "metadata": {},
   "outputs": [],
   "source": [
    "training_data_dir = '/content/Dataset/Train'\n",
    "test_data_dir = '/content/Dataset/Test'\n",
    "\n",
    "# loading training data using ImageDataGenerator\n",
    "from keras.preprocessing.image import ImageDataGenerator\n",
    "\n",
    "train_datagen = ImageDataGenerator(rescale=1./255,\n",
    "                                      shear_range=0.2,\n",
    "                                        zoom_range=0.2,\n",
    "                                        horizontal_flip=True)\n",
    "\n",
    "traingen = train_datagen.flow_from_directory(training_data_dir,\n",
    "                                                target_size=(64, 64),\n",
    "                                                batch_size=32,\n",
    "                                                class_mode='categorical')"
   ]
  },
  {
   "cell_type": "code",
   "execution_count": null,
   "metadata": {},
   "outputs": [],
   "source": [
    "# loading test data using ImageDataGenerator\n",
    "test_datagen = ImageDataGenerator(rescale=1./255)\n",
    "testgen = test_datagen.flow_from_directory(test_data_dir,\n",
    "                                            target_size=(64, 64),\n",
    "                                            batch_size=32,\n",
    "                                            class_mode='categorical')"
   ]
  },
  {
   "cell_type": "code",
   "execution_count": null,
   "metadata": {},
   "outputs": [],
   "source": [
    "# exploring the data\n",
    "import matplotlib.pyplot as plt\n",
    "\n",
    "# plotting the first image in training data\n",
    "plt.imshow(traingen[0][0][0])\n",
    "plt.show()\n",
    "\n",
    "# plotting the first image in test data\n",
    "plt.imshow(testgen[0][0][0])\n",
    "plt.show()"
   ]
  },
  {
   "cell_type": "code",
   "execution_count": null,
   "metadata": {},
   "outputs": [],
   "source": [
    "# histogram of oriented gradients\n",
    "def get_hog_features(hog_image):\n",
    "    hog_features = hog(hog_image, orientations=9, pixels_per_cell=(8, 8),\n",
    "                    cells_per_block=(2, 2), block_norm='L2-Hys',\n",
    "                    visualise=False, transform_sqrt=True, feature_vector=True)\n",
    "    return hog_features\n",
    "\n",
    "get_hog_features(traingen[0][0][0])"
   ]
  },
  {
   "cell_type": "code",
   "execution_count": null,
   "metadata": {},
   "outputs": [],
   "source": [
    "# eploring the hog features\n",
    "def plot_hog_image(hog_image):\n",
    "    fig, (ax1, ax2) = plt.subplots(1, 2, figsize=(8, 4))\n",
    "    ax1.axis('off')\n",
    "    ax1.imshow(hog_image, cmap=plt.cm.gray)\n",
    "    ax2.imshow(hog_image, cmap=plt.cm.gray)\n",
    "    ax2.set_title('HOG image')\n",
    "    ax2.axis('off')\n",
    "    plt.show()\n",
    "\n",
    "# plotting the hog features of the first image in training data\n",
    "plot_hog_image(traingen[0][0][0])\n"
   ]
  },
  {
   "cell_type": "code",
   "execution_count": null,
   "metadata": {},
   "outputs": [],
   "source": [
    "# DirectoryIterator' object has no attribute 'shape'\n",
    "# fixin the issue\n",
    "from keras.preprocessing.image import DirectoryIterator\n",
    "traingen2 = "
   ]
  }
 ],
 "metadata": {
  "language_info": {
   "name": "python"
  },
  "orig_nbformat": 4
 },
 "nbformat": 4,
 "nbformat_minor": 2
}
