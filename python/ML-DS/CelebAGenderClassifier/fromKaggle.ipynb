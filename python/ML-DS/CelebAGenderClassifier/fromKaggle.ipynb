{
 "cells": [
  {
   "cell_type": "code",
   "execution_count": null,
   "metadata": {},
   "outputs": [],
   "source": [
    "import cv2\n",
    "import numpy as np\n",
    "import matplotlib.pyplot as plt\n",
    "from skimage.feature import hog\n",
    "from sklearn.svm import SVC\n",
    "from sklearn.model_selection import train_test_split\n",
    "from sklearn.metrics import accuracy_score\n",
    "from sklearn.metrics import confusion_matrix\n",
    "from sklearn.metrics import classification_report\n",
    "# import sequential model\n",
    "from keras.models import Sequential\n",
    "from keras.layers import Dense, Dropout, Flatten, Conv2D, MaxPooling2D\n",
    "from keras.utils import np_utils\n",
    "\n",
    "# Xception\n",
    "from keras.applications.xception import Xception\n",
    "\n",
    "# Batch Normalization\n",
    "from keras.layers import BatchNormalization\n",
    "import tensorflow as tf"
   ]
  },
  {
   "cell_type": "code",
   "execution_count": null,
   "metadata": {},
   "outputs": [],
   "source": [
    "size = 249\n",
    "target_size = (size,size,3)"
   ]
  },
  {
   "cell_type": "code",
   "execution_count": null,
   "metadata": {},
   "outputs": [],
   "source": [
    "# ImageDataGenerator\n",
    "from keras.preprocessing.image import ImageDataGenerator\n",
    "\n",
    "train_datagen1 = ImageDataGenerator(horizontal_flip=True,\n",
    "                                   width_shift_range=0.4,\n",
    "                                   height_shift_range=0.4,\n",
    "                                   zoom_range=0.3,\n",
    "                                   rotation_range=20,\n",
    "                                   rescale=1./255)\n",
    "\n",
    "train_gen1 = train_datagen1.flow_from_directory('/content/Dataset/Train',\n",
    "                                              target_size=(size,size),\n",
    "                                              batch_size=32,\n",
    "                                              class_mode='binary')"
   ]
  },
  {
   "cell_type": "code",
   "execution_count": null,
   "metadata": {},
   "outputs": [],
   "source": [
    "test_datagen1 = ImageDataGenerator(rescale=1./255)\n",
    "\n",
    "test_gen1 = test_datagen1.flow_from_directory('/content/Dataset/Validation',\n",
    "                                              target_size=(size,size),\n",
    "                                              batch_size=32,\n",
    "                                              class_mode='binary')"
   ]
  },
  {
   "cell_type": "code",
   "execution_count": null,
   "metadata": {},
   "outputs": [],
   "source": [
    "train_datagen2 = ImageDataGenerator(rescale=1./255,\n",
    "                                    rotation_range=30,\n",
    "                                    shear_range=0.3,\n",
    "                                    zoom_range=0.3,\n",
    "                                    horizontal_flip=True,\n",
    "                                    #width_shift_range=0.4,\n",
    "                                    #height_shift_range=0.4,\n",
    "                                   )\n",
    "\n",
    "train_gen2 =train_datagen2.flow_from_directory('/content/Dataset/Train',\n",
    "                                            target_size=(size,size),\n",
    "                                            batch_size=64,\n",
    "                                            class_mode='binary')"
   ]
  },
  {
   "cell_type": "code",
   "execution_count": null,
   "metadata": {},
   "outputs": [],
   "source": [
    "valid_datagen2 = ImageDataGenerator(rescale=1./255)\n",
    "\n",
    "valid_gen2 = valid_datagen2.flow_from_directory('/content/Dataset/Validation',\n",
    "                                                target_size=(size,size),\n",
    "                                                batch_size=64,\n",
    "                                                class_mode='binary')"
   ]
  },
  {
   "cell_type": "code",
   "execution_count": null,
   "metadata": {},
   "outputs": [],
   "source": [
    "# mpimg\n",
    "import mpimg\n",
    "\n",
    "fig,ax=plt.subplots(ncols=2,nrows=4,figsize=(20,20))\n",
    "img1 = mpimg.imread('/content/Dataset/Train/Male/000007.jpg')\n",
    "ax[0][0].imshow(img1)\n",
    "ax[0][0].set_title(\"Second Dataset Examples\")\n",
    "img2 = mpimg.imread('/content/Validation/male/063453.jpg.jpg')\n",
    "ax[0][1].imshow(img2)\n",
    "ax[0][1].set_title(\"First Dataset Examples\")\n",
    "img3 =  mpimg.imread('/content/Dataset/Train/Male/000021.jpg')\n",
    "ax[1][0].imshow(img3)\n",
    "img4= mpimg.imread('/content/Validation/male/063495.jpg.jpg')\n",
    "ax[1][1].imshow(img4)\n",
    "img5 = mpimg.imread('/content/Dataset/Train/Male/000033.jpg')\n",
    "ax[2][0].imshow(img5)\n",
    "img6 = mpimg.imread('/content/Validation/male/063517.jpg.jpg')\n",
    "ax[2][1].imshow(img6)\n",
    "ax[3][0].imshow(mpimg.imread('/content/Dataset/Train/Female/000005.jpg'))\n",
    "ax[3][1].imshow(mpimg.imread('/content/Validation/male/063531.jpg.jpg'))\n",
    "plt.tight_layout()"
   ]
  },
  {
   "cell_type": "code",
   "execution_count": null,
   "metadata": {},
   "outputs": [],
   "source": []
  },
  {
   "cell_type": "code",
   "execution_count": null,
   "metadata": {},
   "outputs": [],
   "source": [
    "\n",
    "#base\n",
    "model = Sequential()\n",
    "model.add(Xception(include_top=False, pooling='avg', weights='imagenet', input_shape=target_size))\n",
    "model.add(Flatten())\n",
    "model.add(BatchNormalization())\n",
    "#head\n",
    "model.add(Dense(2048, activation='relu'))\n",
    "model.add(BatchNormalization())\n",
    "model.add(Dense(1024, activation='relu'))\n",
    "model.add(BatchNormalization())\n",
    "\n",
    "model.add(Dense(1, activation='sigmoid'))\n",
    "\n",
    "model.layers[0].trainable = False"
   ]
  },
  {
   "cell_type": "code",
   "execution_count": null,
   "metadata": {},
   "outputs": [],
   "source": [
    "model.summary()\n",
    "model.compile(optimizer= 'Adam', loss = 'binary_crossentropy', metrics= 'accuracy')"
   ]
  },
  {
   "cell_type": "code",
   "execution_count": null,
   "metadata": {},
   "outputs": [],
   "source": [
    "checkpoint = tf.keras.callbacks.ModelCheckpoint('xception_v1_{epoch:02d}_{val_accuracy:.3f}.h5',\n",
    "                                             save_best_only = True,\n",
    "                                             monitor= 'val_accuracy',\n",
    "                                             mode = 'max')"
   ]
  },
  {
   "cell_type": "code",
   "execution_count": null,
   "metadata": {},
   "outputs": [],
   "source": [
    "epochs = 12\n",
    "batch_size=256\n",
    "history1 = model.fit(train_gen1, epochs= epochs, validation_data= test_gen1,\n",
    "                    steps_per_epoch= len(train_gen1.filenames)//batch_size,\n",
    "                    validation_steps= len(test_gen1.filenames)//batch_size,\n",
    "                    callbacks= [checkpoint]\n",
    "                    )"
   ]
  },
  {
   "cell_type": "code",
   "execution_count": null,
   "metadata": {},
   "outputs": [],
   "source": [
    "acc = history1.history['accuracy']\n",
    "val_acc = history1.history['val_accuracy']\n",
    "loss = history1.history['loss']\n",
    "val_loss = history1.history['val_loss']\n",
    "epochs = range(1, len(acc) + 1)\n",
    "plt.plot(epochs, acc, 'bo', label='Training accuracy')\n",
    "plt.plot(epochs, val_acc, 'ro', label='Validation accuracy')\n",
    "plt.title('Training and validation accuracy')\n",
    "plt.legend()\n",
    "plt.figure()\n",
    "\n",
    "plt.plot(epochs, loss, 'bo', label='Training loss')\n",
    "plt.plot(epochs, val_loss, 'ro', label='Validation loss')\n",
    "plt.title('Training and validation loss')\n",
    "plt.legend()\n",
    "plt.figure()"
   ]
  },
  {
   "cell_type": "code",
   "execution_count": null,
   "metadata": {},
   "outputs": [],
   "source": [
    "test_loss, test_acc = model.evaluate(test_gen1, steps=50)\n",
    "print('test acc:', test_acc)\n",
    "print('test_loss:',test_loss)"
   ]
  },
  {
   "cell_type": "code",
   "execution_count": null,
   "metadata": {},
   "outputs": [],
   "source": [
    "test_datagen2 = ImageDataGenerator(rescale=1./255)\n",
    "\n",
    "test_gen2 = test_datagen2.flow_from_directory('/content/Dataset/Test',\n",
    "                                              target_size=(size,size),\n",
    "                                              batch_size=650,\n",
    "                                              class_mode='binary')"
   ]
  },
  {
   "cell_type": "code",
   "execution_count": null,
   "metadata": {},
   "outputs": [],
   "source": [
    "checkpoint = tf.keras.callbacks.ModelCheckpoint('xception_v2_{epoch:02d}_{val_accuracy:.3f}.h5',\n",
    "                                             save_best_only = True,\n",
    "                                             monitor= 'val_accuracy',\n",
    "                                             mode = 'max')"
   ]
  },
  {
   "cell_type": "code",
   "execution_count": null,
   "metadata": {},
   "outputs": [],
   "source": [
    "epochs = 5 #should train for 10 epochs\n",
    "batch_size=512\n",
    "history2 = model.fit(train_gen2, epochs = epochs, validation_data = valid_gen2,\n",
    "                    steps_per_epoch= len(train_gen2.filenames)//batch_size,\n",
    "                    validation_steps= len(valid_gen2.filenames)//batch_size,\n",
    "                    callbacks= [checkpoint]\n",
    "                    )"
   ]
  },
  {
   "cell_type": "code",
   "execution_count": null,
   "metadata": {},
   "outputs": [],
   "source": [
    "test_loss, test_acc = model.evaluate(test_gen1, steps=50)\n",
    "print('test acc:', test_acc)\n",
    "print('test_loss:',test_loss)"
   ]
  },
  {
   "cell_type": "code",
   "execution_count": null,
   "metadata": {},
   "outputs": [],
   "source": [
    "test_loss, test_acc = model.evaluate(test_gen2, steps=100)\n",
    "print('test acc:', test_acc)\n",
    "print('test_loss:',test_loss)"
   ]
  },
  {
   "cell_type": "code",
   "execution_count": null,
   "metadata": {},
   "outputs": [],
   "source": [
    "import os\n",
    "# import img_to_array\n",
    "# build the model using SVM \n",
    "from sklearn.svm import SVC\n",
    "from sklearn.metrics import accuracy_score\n",
    "from sklearn.metrics import classification_report\n",
    "from sklearn.metrics import confusion_matrix\n",
    "from sklearn.metrics import roc_curve"
   ]
  },
  {
   "cell_type": "code",
   "execution_count": null,
   "metadata": {},
   "outputs": [],
   "source": [
    "# build the model using SVM\n",
    "# SVC\n",
    "from sklearn.svm import SVC\n",
    "\n",
    "model = SVC(kernel='linear', probability=True)\n",
    "\n",
    "# fit the model on the training data\n",
    "len_train = len(train_gen1.filenames)\n",
    "len_test = len(test_gen1.filenames)\n",
    "\n",
    "X_train = np.array(train_gen2.filenames).reshape(len_train, -1)\n",
    "y_train = np.array(train_gen2.classes)"
   ]
  },
  {
   "cell_type": "code",
   "execution_count": null,
   "metadata": {},
   "outputs": [],
   "source": [
    "X_train.shape"
   ]
  },
  {
   "cell_type": "code",
   "execution_count": null,
   "metadata": {},
   "outputs": [],
   "source": [
    "# flatten the images\n",
    "X_train = X_train/255\n",
    "X_train[1]"
   ]
  },
  {
   "cell_type": "code",
   "execution_count": null,
   "metadata": {},
   "outputs": [],
   "source": [
    "len_test = len(test_gen1.filenames)\n",
    "print(len_test)"
   ]
  },
  {
   "cell_type": "code",
   "execution_count": null,
   "metadata": {},
   "outputs": [],
   "source": [
    "X_test = np.array(test_gen1.filenames).reshape(len_test, -1)\n",
    "y_test = np.array(test_gen1.classes)"
   ]
  },
  {
   "cell_type": "code",
   "execution_count": null,
   "metadata": {},
   "outputs": [],
   "source": [
    "# fitting the data into a SVM model\n",
    "model.fit(X_train, y_train)\n",
    "\n",
    "# convert X_test to a numpy array of type float32\n",
    "X_test = X_test.astype('float32')\n",
    "\n"
   ]
  }
 ],
 "metadata": {
  "language_info": {
   "name": "python"
  },
  "orig_nbformat": 4
 },
 "nbformat": 4,
 "nbformat_minor": 2
}
