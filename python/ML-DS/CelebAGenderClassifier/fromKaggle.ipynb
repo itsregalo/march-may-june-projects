{
 "cells": [
  {
   "cell_type": "code",
   "execution_count": null,
   "metadata": {},
   "outputs": [],
   "source": [
    "import cv2\n",
    "import numpy as np\n",
    "import matplotlib.pyplot as plt\n",
    "from skimage.feature import hog\n",
    "from sklearn.svm import SVC\n",
    "from sklearn.model_selection import train_test_split\n",
    "from sklearn.metrics import accuracy_score\n",
    "from sklearn.metrics import confusion_matrix\n",
    "from sklearn.metrics import classification_report"
   ]
  },
  {
   "cell_type": "code",
   "execution_count": null,
   "metadata": {},
   "outputs": [],
   "source": [
    "size = 249\n",
    "target_size = (size,size,3)"
   ]
  },
  {
   "cell_type": "code",
   "execution_count": null,
   "metadata": {},
   "outputs": [],
   "source": [
    "# ImageDataGenerator\n",
    "from keras.preprocessing.image import ImageDataGenerator\n",
    "\n",
    "train_datagen1 = ImageDataGenerator(horizontal_flip=True,\n",
    "                                   width_shift_range=0.4,\n",
    "                                   height_shift_range=0.4,\n",
    "                                   zoom_range=0.3,\n",
    "                                   rotation_range=20,\n",
    "                                   rescale=1./255)\n",
    "\n",
    "train_gen1 = train_datagen1.flow_from_directory('/content/Dataset/Train',\n",
    "                                              target_size=(size,size),\n",
    "                                              batch_size=32,\n",
    "                                              class_mode='binary')"
   ]
  },
  {
   "cell_type": "code",
   "execution_count": null,
   "metadata": {},
   "outputs": [],
   "source": [
    "test_datagen1 = ImageDataGenerator(rescale=1./255)\n",
    "\n",
    "test_gen1 = test_datagen1.flow_from_directory('/content/Dataset/Validation',\n",
    "                                              target_size=(size,size),\n",
    "                                              batch_size=32,\n",
    "                                              class_mode='binary')"
   ]
  },
  {
   "cell_type": "code",
   "execution_count": null,
   "metadata": {},
   "outputs": [],
   "source": [
    "train_datagen2 = ImageDataGenerator(rescale=1./255,\n",
    "                                    rotation_range=30,\n",
    "                                    shear_range=0.3,\n",
    "                                    zoom_range=0.3,\n",
    "                                    horizontal_flip=True,\n",
    "                                    #width_shift_range=0.4,\n",
    "                                    #height_shift_range=0.4,\n",
    "                                   )\n",
    "\n",
    "train_gen2 =train_datagen2.flow_from_directory('/content/Dataset/Train',\n",
    "                                            target_size=(size,size),\n",
    "                                            batch_size=64,\n",
    "                                            class_mode='binary')"
   ]
  },
  {
   "cell_type": "code",
   "execution_count": null,
   "metadata": {},
   "outputs": [],
   "source": [
    "valid_datagen2 = ImageDataGenerator(rescale=1./255)\n",
    "\n",
    "valid_gen2 = valid_datagen2.flow_from_directory('/content/Dataset/Validation',\n",
    "                                                target_size=(size,size),\n",
    "                                                batch_size=64,\n",
    "                                                class_mode='binary')"
   ]
  },
  {
   "cell_type": "code",
   "execution_count": null,
   "metadata": {},
   "outputs": [],
   "source": [
    "# mpimg\n",
    "import mpimg\n",
    "\n",
    "fig,ax=plt.subplots(ncols=2,nrows=4,figsize=(20,20))\n",
    "img1 = mpimg.imread('/content/Dataset/Train/Male/000007.jpg')\n",
    "ax[0][0].imshow(img1)\n",
    "ax[0][0].set_title(\"Second Dataset Examples\")\n",
    "img2 = mpimg.imread('/content/Validation/male/063453.jpg.jpg')\n",
    "ax[0][1].imshow(img2)\n",
    "ax[0][1].set_title(\"First Dataset Examples\")\n",
    "img3 =  mpimg.imread('/content/Dataset/Train/Male/000021.jpg')\n",
    "ax[1][0].imshow(img3)\n",
    "img4= mpimg.imread('/content/Validation/male/063495.jpg.jpg')\n",
    "ax[1][1].imshow(img4)\n",
    "img5 = mpimg.imread('/content/Dataset/Train/Male/000033.jpg')\n",
    "ax[2][0].imshow(img5)\n",
    "img6 = mpimg.imread('/content/Validation/male/063517.jpg.jpg')\n",
    "ax[2][1].imshow(img6)\n",
    "ax[3][0].imshow(mpimg.imread('/content/Dataset/Train/Female/000005.jpg'))\n",
    "ax[3][1].imshow(mpimg.imread('/content/Validation/male/063531.jpg.jpg'))\n",
    "plt.tight_layout()"
   ]
  },
  {
   "cell_type": "code",
   "execution_count": null,
   "metadata": {},
   "outputs": [],
   "source": []
  }
 ],
 "metadata": {
  "language_info": {
   "name": "python"
  },
  "orig_nbformat": 4
 },
 "nbformat": 4,
 "nbformat_minor": 2
}
