{
 "cells": [
  {
   "cell_type": "code",
   "execution_count": 1,
   "metadata": {},
   "outputs": [],
   "source": [
    "# import modules\n",
    "import os\n",
    "import sys\n",
    "import time\n",
    "import pandas as pd\n",
    "import numpy as np\n",
    "import matplotlib.pyplot as plt\n",
    "import seaborn as sns"
   ]
  },
  {
   "cell_type": "code",
   "execution_count": 2,
   "metadata": {},
   "outputs": [
    {
     "data": {
      "text/html": [
       "<div>\n",
       "<style scoped>\n",
       "    .dataframe tbody tr th:only-of-type {\n",
       "        vertical-align: middle;\n",
       "    }\n",
       "\n",
       "    .dataframe tbody tr th {\n",
       "        vertical-align: top;\n",
       "    }\n",
       "\n",
       "    .dataframe thead th {\n",
       "        text-align: right;\n",
       "    }\n",
       "</style>\n",
       "<table border=\"1\" class=\"dataframe\">\n",
       "  <thead>\n",
       "    <tr style=\"text-align: right;\">\n",
       "      <th></th>\n",
       "      <th>Date</th>\n",
       "      <th>USD</th>\n",
       "      <th>EUR</th>\n",
       "      <th>GBP</th>\n",
       "      <th>INR</th>\n",
       "      <th>AED</th>\n",
       "      <th>CNY</th>\n",
       "    </tr>\n",
       "  </thead>\n",
       "  <tbody>\n",
       "    <tr>\n",
       "      <th>0</th>\n",
       "      <td>1985-01-01</td>\n",
       "      <td>308.30</td>\n",
       "      <td>402.45</td>\n",
       "      <td>266.01</td>\n",
       "      <td>3825.85</td>\n",
       "      <td>1134.42</td>\n",
       "      <td>NaN</td>\n",
       "    </tr>\n",
       "    <tr>\n",
       "      <th>1</th>\n",
       "      <td>1985-01-02</td>\n",
       "      <td>305.50</td>\n",
       "      <td>401.49</td>\n",
       "      <td>266.00</td>\n",
       "      <td>3787.05</td>\n",
       "      <td>1134.42</td>\n",
       "      <td>NaN</td>\n",
       "    </tr>\n",
       "    <tr>\n",
       "      <th>2</th>\n",
       "      <td>1985-01-03</td>\n",
       "      <td>302.30</td>\n",
       "      <td>397.08</td>\n",
       "      <td>262.76</td>\n",
       "      <td>3718.88</td>\n",
       "      <td>1107.67</td>\n",
       "      <td>NaN</td>\n",
       "    </tr>\n",
       "    <tr>\n",
       "      <th>3</th>\n",
       "      <td>1985-01-04</td>\n",
       "      <td>303.15</td>\n",
       "      <td>397.15</td>\n",
       "      <td>262.58</td>\n",
       "      <td>3759.64</td>\n",
       "      <td>1118.21</td>\n",
       "      <td>NaN</td>\n",
       "    </tr>\n",
       "    <tr>\n",
       "      <th>4</th>\n",
       "      <td>1985-01-07</td>\n",
       "      <td>298.25</td>\n",
       "      <td>392.55</td>\n",
       "      <td>261.17</td>\n",
       "      <td>3741.23</td>\n",
       "      <td>1091.58</td>\n",
       "      <td>835.8</td>\n",
       "    </tr>\n",
       "  </tbody>\n",
       "</table>\n",
       "</div>"
      ],
      "text/plain": [
       "         Date     USD     EUR     GBP      INR      AED    CNY\n",
       "0  1985-01-01  308.30  402.45  266.01  3825.85  1134.42    NaN\n",
       "1  1985-01-02  305.50  401.49  266.00  3787.05  1134.42    NaN\n",
       "2  1985-01-03  302.30  397.08  262.76  3718.88  1107.67    NaN\n",
       "3  1985-01-04  303.15  397.15  262.58  3759.64  1118.21    NaN\n",
       "4  1985-01-07  298.25  392.55  261.17  3741.23  1091.58  835.8"
      ]
     },
     "execution_count": 2,
     "metadata": {},
     "output_type": "execute_result"
    }
   ],
   "source": [
    "df = pd.read_csv('daily_gold_rate.csv')\n",
    "df.head()"
   ]
  },
  {
   "cell_type": "code",
   "execution_count": 3,
   "metadata": {},
   "outputs": [
    {
     "data": {
      "text/html": [
       "<div>\n",
       "<style scoped>\n",
       "    .dataframe tbody tr th:only-of-type {\n",
       "        vertical-align: middle;\n",
       "    }\n",
       "\n",
       "    .dataframe tbody tr th {\n",
       "        vertical-align: top;\n",
       "    }\n",
       "\n",
       "    .dataframe thead th {\n",
       "        text-align: right;\n",
       "    }\n",
       "</style>\n",
       "<table border=\"1\" class=\"dataframe\">\n",
       "  <thead>\n",
       "    <tr style=\"text-align: right;\">\n",
       "      <th></th>\n",
       "      <th>Date</th>\n",
       "      <th>USD</th>\n",
       "      <th>EUR</th>\n",
       "      <th>GBP</th>\n",
       "      <th>INR</th>\n",
       "      <th>AED</th>\n",
       "      <th>CNY</th>\n",
       "    </tr>\n",
       "  </thead>\n",
       "  <tbody>\n",
       "    <tr>\n",
       "      <th>3914</th>\n",
       "      <td>2000-01-03</td>\n",
       "      <td>290.25</td>\n",
       "      <td>285.88</td>\n",
       "      <td>178.76</td>\n",
       "      <td>12624.42</td>\n",
       "      <td>1066.06</td>\n",
       "      <td>2403.21</td>\n",
       "    </tr>\n",
       "    <tr>\n",
       "      <th>3915</th>\n",
       "      <td>2000-01-04</td>\n",
       "      <td>281.50</td>\n",
       "      <td>273.25</td>\n",
       "      <td>172.12</td>\n",
       "      <td>12253.35</td>\n",
       "      <td>1033.98</td>\n",
       "      <td>2330.79</td>\n",
       "    </tr>\n",
       "    <tr>\n",
       "      <th>3916</th>\n",
       "      <td>2000-01-05</td>\n",
       "      <td>280.45</td>\n",
       "      <td>271.31</td>\n",
       "      <td>171.09</td>\n",
       "      <td>12204.48</td>\n",
       "      <td>1030.09</td>\n",
       "      <td>2322.07</td>\n",
       "    </tr>\n",
       "    <tr>\n",
       "      <th>3917</th>\n",
       "      <td>2000-01-06</td>\n",
       "      <td>279.40</td>\n",
       "      <td>269.98</td>\n",
       "      <td>169.56</td>\n",
       "      <td>12155.57</td>\n",
       "      <td>1026.21</td>\n",
       "      <td>2313.35</td>\n",
       "    </tr>\n",
       "    <tr>\n",
       "      <th>3918</th>\n",
       "      <td>2000-01-07</td>\n",
       "      <td>282.10</td>\n",
       "      <td>274.18</td>\n",
       "      <td>172.22</td>\n",
       "      <td>12275.58</td>\n",
       "      <td>1036.21</td>\n",
       "      <td>2335.62</td>\n",
       "    </tr>\n",
       "  </tbody>\n",
       "</table>\n",
       "</div>"
      ],
      "text/plain": [
       "            Date     USD     EUR     GBP       INR      AED      CNY\n",
       "3914  2000-01-03  290.25  285.88  178.76  12624.42  1066.06  2403.21\n",
       "3915  2000-01-04  281.50  273.25  172.12  12253.35  1033.98  2330.79\n",
       "3916  2000-01-05  280.45  271.31  171.09  12204.48  1030.09  2322.07\n",
       "3917  2000-01-06  279.40  269.98  169.56  12155.57  1026.21  2313.35\n",
       "3918  2000-01-07  282.10  274.18  172.22  12275.58  1036.21  2335.62"
      ]
     },
     "execution_count": 3,
     "metadata": {},
     "output_type": "execute_result"
    }
   ],
   "source": [
    "# delete rows with date < 01/01/2000\n",
    "df = df[df['Date'] >= '2000-01-01']\n",
    "df.head()"
   ]
  },
  {
   "cell_type": "code",
   "execution_count": 4,
   "metadata": {},
   "outputs": [
    {
     "data": {
      "text/html": [
       "<div>\n",
       "<style scoped>\n",
       "    .dataframe tbody tr th:only-of-type {\n",
       "        vertical-align: middle;\n",
       "    }\n",
       "\n",
       "    .dataframe tbody tr th {\n",
       "        vertical-align: top;\n",
       "    }\n",
       "\n",
       "    .dataframe thead th {\n",
       "        text-align: right;\n",
       "    }\n",
       "</style>\n",
       "<table border=\"1\" class=\"dataframe\">\n",
       "  <thead>\n",
       "    <tr style=\"text-align: right;\">\n",
       "      <th></th>\n",
       "      <th>Date</th>\n",
       "      <th>USD</th>\n",
       "      <th>EUR</th>\n",
       "      <th>GBP</th>\n",
       "      <th>INR</th>\n",
       "      <th>AED</th>\n",
       "      <th>CNY</th>\n",
       "    </tr>\n",
       "  </thead>\n",
       "  <tbody>\n",
       "    <tr>\n",
       "      <th>9709</th>\n",
       "      <td>2022-03-21</td>\n",
       "      <td>1935.05</td>\n",
       "      <td>1751.26</td>\n",
       "      <td>1465.45</td>\n",
       "      <td>147315.36</td>\n",
       "      <td>7107.54</td>\n",
       "      <td>12306.53</td>\n",
       "    </tr>\n",
       "    <tr>\n",
       "      <th>9710</th>\n",
       "      <td>2022-03-22</td>\n",
       "      <td>1915.25</td>\n",
       "      <td>1737.66</td>\n",
       "      <td>1444.44</td>\n",
       "      <td>145908.53</td>\n",
       "      <td>7034.81</td>\n",
       "      <td>12181.47</td>\n",
       "    </tr>\n",
       "    <tr>\n",
       "      <th>9711</th>\n",
       "      <td>2022-03-23</td>\n",
       "      <td>1931.75</td>\n",
       "      <td>1755.90</td>\n",
       "      <td>1462.12</td>\n",
       "      <td>147397.35</td>\n",
       "      <td>7095.41</td>\n",
       "      <td>12313.55</td>\n",
       "    </tr>\n",
       "    <tr>\n",
       "      <th>9712</th>\n",
       "      <td>2022-03-24</td>\n",
       "      <td>1965.20</td>\n",
       "      <td>1785.33</td>\n",
       "      <td>1490.59</td>\n",
       "      <td>150084.78</td>\n",
       "      <td>7218.28</td>\n",
       "      <td>12517.05</td>\n",
       "    </tr>\n",
       "    <tr>\n",
       "      <th>9713</th>\n",
       "      <td>2022-03-25</td>\n",
       "      <td>1953.80</td>\n",
       "      <td>1778.69</td>\n",
       "      <td>1480.94</td>\n",
       "      <td>148901.54</td>\n",
       "      <td>7176.41</td>\n",
       "      <td>12438.18</td>\n",
       "    </tr>\n",
       "  </tbody>\n",
       "</table>\n",
       "</div>"
      ],
      "text/plain": [
       "            Date      USD      EUR      GBP        INR      AED       CNY\n",
       "9709  2022-03-21  1935.05  1751.26  1465.45  147315.36  7107.54  12306.53\n",
       "9710  2022-03-22  1915.25  1737.66  1444.44  145908.53  7034.81  12181.47\n",
       "9711  2022-03-23  1931.75  1755.90  1462.12  147397.35  7095.41  12313.55\n",
       "9712  2022-03-24  1965.20  1785.33  1490.59  150084.78  7218.28  12517.05\n",
       "9713  2022-03-25  1953.80  1778.69  1480.94  148901.54  7176.41  12438.18"
      ]
     },
     "execution_count": 4,
     "metadata": {},
     "output_type": "execute_result"
    }
   ],
   "source": [
    "df.tail()"
   ]
  },
  {
   "cell_type": "code",
   "execution_count": 5,
   "metadata": {},
   "outputs": [
    {
     "data": {
      "text/html": [
       "<div>\n",
       "<style scoped>\n",
       "    .dataframe tbody tr th:only-of-type {\n",
       "        vertical-align: middle;\n",
       "    }\n",
       "\n",
       "    .dataframe tbody tr th {\n",
       "        vertical-align: top;\n",
       "    }\n",
       "\n",
       "    .dataframe thead th {\n",
       "        text-align: right;\n",
       "    }\n",
       "</style>\n",
       "<table border=\"1\" class=\"dataframe\">\n",
       "  <thead>\n",
       "    <tr style=\"text-align: right;\">\n",
       "      <th></th>\n",
       "      <th>USD</th>\n",
       "      <th>EUR</th>\n",
       "      <th>GBP</th>\n",
       "      <th>INR</th>\n",
       "      <th>AED</th>\n",
       "      <th>CNY</th>\n",
       "    </tr>\n",
       "  </thead>\n",
       "  <tbody>\n",
       "    <tr>\n",
       "      <th>count</th>\n",
       "      <td>5800.000000</td>\n",
       "      <td>5800.000000</td>\n",
       "      <td>5800.000000</td>\n",
       "      <td>5800.000000</td>\n",
       "      <td>5800.000000</td>\n",
       "      <td>5800.000000</td>\n",
       "    </tr>\n",
       "    <tr>\n",
       "      <th>mean</th>\n",
       "      <td>1020.774603</td>\n",
       "      <td>839.019105</td>\n",
       "      <td>685.934717</td>\n",
       "      <td>60099.339910</td>\n",
       "      <td>3749.287169</td>\n",
       "      <td>6929.624469</td>\n",
       "    </tr>\n",
       "    <tr>\n",
       "      <th>std</th>\n",
       "      <td>511.512089</td>\n",
       "      <td>418.726968</td>\n",
       "      <td>388.590303</td>\n",
       "      <td>37945.930796</td>\n",
       "      <td>1878.842844</td>\n",
       "      <td>3089.769807</td>\n",
       "    </tr>\n",
       "    <tr>\n",
       "      <th>min</th>\n",
       "      <td>255.950000</td>\n",
       "      <td>269.980000</td>\n",
       "      <td>169.560000</td>\n",
       "      <td>11936.120000</td>\n",
       "      <td>940.100000</td>\n",
       "      <td>2118.650000</td>\n",
       "    </tr>\n",
       "    <tr>\n",
       "      <th>25%</th>\n",
       "      <td>440.937500</td>\n",
       "      <td>354.940000</td>\n",
       "      <td>242.222500</td>\n",
       "      <td>19420.557500</td>\n",
       "      <td>1619.430000</td>\n",
       "      <td>3632.110000</td>\n",
       "    </tr>\n",
       "    <tr>\n",
       "      <th>50%</th>\n",
       "      <td>1175.750000</td>\n",
       "      <td>954.715000</td>\n",
       "      <td>755.065000</td>\n",
       "      <td>63160.545000</td>\n",
       "      <td>4318.530000</td>\n",
       "      <td>7482.020000</td>\n",
       "    </tr>\n",
       "    <tr>\n",
       "      <th>75%</th>\n",
       "      <td>1349.275000</td>\n",
       "      <td>1134.735000</td>\n",
       "      <td>987.647500</td>\n",
       "      <td>85586.457500</td>\n",
       "      <td>4955.917500</td>\n",
       "      <td>8861.470000</td>\n",
       "    </tr>\n",
       "    <tr>\n",
       "      <th>max</th>\n",
       "      <td>2067.150000</td>\n",
       "      <td>1874.560000</td>\n",
       "      <td>1572.810000</td>\n",
       "      <td>156815.690000</td>\n",
       "      <td>7592.950000</td>\n",
       "      <td>14355.530000</td>\n",
       "    </tr>\n",
       "  </tbody>\n",
       "</table>\n",
       "</div>"
      ],
      "text/plain": [
       "               USD          EUR          GBP            INR          AED  \\\n",
       "count  5800.000000  5800.000000  5800.000000    5800.000000  5800.000000   \n",
       "mean   1020.774603   839.019105   685.934717   60099.339910  3749.287169   \n",
       "std     511.512089   418.726968   388.590303   37945.930796  1878.842844   \n",
       "min     255.950000   269.980000   169.560000   11936.120000   940.100000   \n",
       "25%     440.937500   354.940000   242.222500   19420.557500  1619.430000   \n",
       "50%    1175.750000   954.715000   755.065000   63160.545000  4318.530000   \n",
       "75%    1349.275000  1134.735000   987.647500   85586.457500  4955.917500   \n",
       "max    2067.150000  1874.560000  1572.810000  156815.690000  7592.950000   \n",
       "\n",
       "                CNY  \n",
       "count   5800.000000  \n",
       "mean    6929.624469  \n",
       "std     3089.769807  \n",
       "min     2118.650000  \n",
       "25%     3632.110000  \n",
       "50%     7482.020000  \n",
       "75%     8861.470000  \n",
       "max    14355.530000  "
      ]
     },
     "execution_count": 5,
     "metadata": {},
     "output_type": "execute_result"
    }
   ],
   "source": [
    "# describe the data\n",
    "df.describe()\n"
   ]
  },
  {
   "cell_type": "code",
   "execution_count": 6,
   "metadata": {},
   "outputs": [
    {
     "name": "stdout",
     "output_type": "stream",
     "text": [
      "<class 'pandas.core.frame.DataFrame'>\n",
      "Int64Index: 5800 entries, 3914 to 9713\n",
      "Data columns (total 7 columns):\n",
      " #   Column  Non-Null Count  Dtype  \n",
      "---  ------  --------------  -----  \n",
      " 0   Date    5800 non-null   object \n",
      " 1   USD     5800 non-null   float64\n",
      " 2   EUR     5800 non-null   float64\n",
      " 3   GBP     5800 non-null   float64\n",
      " 4   INR     5800 non-null   float64\n",
      " 5   AED     5800 non-null   float64\n",
      " 6   CNY     5800 non-null   float64\n",
      "dtypes: float64(6), object(1)\n",
      "memory usage: 362.5+ KB\n"
     ]
    }
   ],
   "source": [
    "df.info()"
   ]
  },
  {
   "cell_type": "code",
   "execution_count": 7,
   "metadata": {},
   "outputs": [
    {
     "data": {
      "image/png": "[encoded data removed]",
      "text/plain": [
       "<Figure size 432x288 with 1 Axes>"
      ]
     },
     "metadata": {
      "needs_background": "light"
     },
     "output_type": "display_data"
    }
   ],
   "source": [
    "# plot line graph of date against all columns\n",
    "df.plot(x='Date', y=['USD', 'GBP', 'EUR', 'INR', 'AED','CNY'])\n",
    "plt.show()\n"
   ]
  },
  {
   "cell_type": "code",
   "execution_count": 8,
   "metadata": {},
   "outputs": [
    {
     "data": {
      "image/png": "[encoded data removed]",
      "text/plain": [
       "<Figure size 1440x1080 with 6 Axes>"
      ]
     },
     "metadata": {
      "needs_background": "light"
     },
     "output_type": "display_data"
    }
   ],
   "source": [
    "# histogram of all columns\n",
    "df.hist(bins=50, figsize=(20,15))\n",
    "plt.show()\n"
   ]
  },
  {
   "cell_type": "code",
   "execution_count": 9,
   "metadata": {},
   "outputs": [
    {
     "name": "stdout",
     "output_type": "stream",
     "text": [
      "<class 'pandas.core.frame.DataFrame'>\n",
      "Int64Index: 5800 entries, 3914 to 9713\n",
      "Data columns (total 7 columns):\n",
      " #   Column  Non-Null Count  Dtype  \n",
      "---  ------  --------------  -----  \n",
      " 0   Date    5800 non-null   int64  \n",
      " 1   USD     5800 non-null   float64\n",
      " 2   EUR     5800 non-null   float64\n",
      " 3   GBP     5800 non-null   float64\n",
      " 4   INR     5800 non-null   float64\n",
      " 5   AED     5800 non-null   float64\n",
      " 6   CNY     5800 non-null   float64\n",
      "dtypes: float64(6), int64(1)\n",
      "memory usage: 362.5 KB\n"
     ]
    }
   ],
   "source": [
    "# clean data\n",
    "df.dropna(inplace=True)\n",
    "\n",
    "# convert date to datetime\n",
    "df.Date = pd.to_datetime(df.Date)\n",
    "# int too big to convert date to float\n",
    "df.Date = df.Date.astype(np.int64)\n",
    "\n",
    "df.info()"
   ]
  },
  {
   "cell_type": "code",
   "execution_count": 10,
   "metadata": {},
   "outputs": [
    {
     "data": {
      "text/plain": [
       "LinearRegression()"
      ]
     },
     "execution_count": 10,
     "metadata": {},
     "output_type": "execute_result"
    }
   ],
   "source": [
    "# train test split\n",
    "from sklearn.model_selection import train_test_split\n",
    "X_train, X_test, y_train, y_test = train_test_split(df[['USD', 'GBP', 'EUR', 'INR', 'AED','CNY']], df['Date'], test_size=0.2, random_state=42)\n",
    "\n",
    "# train model\n",
    "from sklearn.linear_model import LinearRegression\n",
    "model = LinearRegression()\n",
    "model.fit(X_train, y_train)\n"
   ]
  },
  {
   "cell_type": "code",
   "execution_count": 11,
   "metadata": {},
   "outputs": [],
   "source": [
    "\n",
    "# predict\n",
    "y_pred = model.predict(X_test)\n"
   ]
  },
  {
   "cell_type": "code",
   "execution_count": 23,
   "metadata": {},
   "outputs": [
    {
     "data": {
      "text/html": [
       "<div>\n",
       "<style scoped>\n",
       "    .dataframe tbody tr th:only-of-type {\n",
       "        vertical-align: middle;\n",
       "    }\n",
       "\n",
       "    .dataframe tbody tr th {\n",
       "        vertical-align: top;\n",
       "    }\n",
       "\n",
       "    .dataframe thead th {\n",
       "        text-align: right;\n",
       "    }\n",
       "</style>\n",
       "<table border=\"1\" class=\"dataframe\">\n",
       "  <thead>\n",
       "    <tr style=\"text-align: right;\">\n",
       "      <th></th>\n",
       "      <th>Date</th>\n",
       "      <th>Actual</th>\n",
       "      <th>Predicted</th>\n",
       "    </tr>\n",
       "  </thead>\n",
       "  <tbody>\n",
       "    <tr>\n",
       "      <th>9326</th>\n",
       "      <td>1601424000000000000</td>\n",
       "      <td>1601424000000000000</td>\n",
       "      <td>1.602597e+18</td>\n",
       "    </tr>\n",
       "    <tr>\n",
       "      <th>5017</th>\n",
       "      <td>1080172800000000000</td>\n",
       "      <td>1080172800000000000</td>\n",
       "      <td>1.086827e+18</td>\n",
       "    </tr>\n",
       "    <tr>\n",
       "      <th>4726</th>\n",
       "      <td>1045008000000000000</td>\n",
       "      <td>1045008000000000000</td>\n",
       "      <td>1.043601e+18</td>\n",
       "    </tr>\n",
       "    <tr>\n",
       "      <th>5546</th>\n",
       "      <td>1144195200000000000</td>\n",
       "      <td>1144195200000000000</td>\n",
       "      <td>1.144747e+18</td>\n",
       "    </tr>\n",
       "    <tr>\n",
       "      <th>5042</th>\n",
       "      <td>1083196800000000000</td>\n",
       "      <td>1083196800000000000</td>\n",
       "      <td>1.084482e+18</td>\n",
       "    </tr>\n",
       "  </tbody>\n",
       "</table>\n",
       "</div>"
      ],
      "text/plain": [
       "                     Date               Actual     Predicted\n",
       "9326  1601424000000000000  1601424000000000000  1.602597e+18\n",
       "5017  1080172800000000000  1080172800000000000  1.086827e+18\n",
       "4726  1045008000000000000  1045008000000000000  1.043601e+18\n",
       "5546  1144195200000000000  1144195200000000000  1.144747e+18\n",
       "5042  1083196800000000000  1083196800000000000  1.084482e+18"
      ]
     },
     "execution_count": 23,
     "metadata": {},
     "output_type": "execute_result"
    }
   ],
   "source": [
    "# show results in a dataframe\n",
    "df_results = pd.DataFrame({'Date': y_test, 'Actual': y_test, 'Predicted': y_pred})\n",
    "df_results.head()"
   ]
  },
  {
   "cell_type": "code",
   "execution_count": 12,
   "metadata": {},
   "outputs": [
    {
     "data": {
      "image/png": "[encoded data removed]",
      "text/plain": [
       "<Figure size 1440x720 with 1 Axes>"
      ]
     },
     "metadata": {
      "needs_background": "light"
     },
     "output_type": "display_data"
    }
   ],
   "source": [
    "# plot\n",
    "plt.figure(figsize=(20,10))\n",
    "plt.plot(y_test, color='blue', label='Actual')\n",
    "plt.plot(y_pred, color='red', label='Predicted')\n",
    "plt.legend()\n",
    "plt.show()\n"
   ]
  },
  {
   "cell_type": "code",
   "execution_count": 13,
   "metadata": {},
   "outputs": [
    {
     "name": "stdout",
     "output_type": "stream",
     "text": [
      "5.986468999036393e+16\n"
     ]
    }
   ],
   "source": [
    "# evaluate\n",
    "from sklearn.metrics import mean_squared_error\n",
    "from math import sqrt\n",
    "rms = sqrt(mean_squared_error(y_test, y_pred))\n",
    "print(rms)\n",
    "\n",
    "# save model\n",
    "import pickle\n",
    "pickle.dump(model, open('model.pkl','wb'))\n"
   ]
  },
  {
   "cell_type": "code",
   "execution_count": 14,
   "metadata": {},
   "outputs": [
    {
     "name": "stdout",
     "output_type": "stream",
     "text": [
      "1.0\n"
     ]
    }
   ],
   "source": [
    "# get accuracy\n",
    "from sklearn.metrics import accuracy_score, confusion_matrix, classification_report\n",
    "# Classification metrics can't handle a mix of multiclass and continuous targets\n",
    "# so we need to convert the target to a binary class\n",
    "y_test_binary = y_test.copy()\n",
    "y_test_binary[y_test_binary > 0] = 1\n",
    "y_pred_binary = y_pred.copy()\n",
    "y_pred_binary[y_pred_binary > 0] = 1\n",
    "\n",
    "# accuracy\n",
    "accuracy = accuracy_score(y_test_binary, y_pred_binary)\n",
    "print(accuracy)\n",
    "\n"
   ]
  },
  {
   "cell_type": "markdown",
   "metadata": {},
   "source": [
    "### Using Random Forest to Predict the Gold Price"
   ]
  },
  {
   "cell_type": "code",
   "execution_count": 15,
   "metadata": {},
   "outputs": [],
   "source": [
    "# train test split\n",
    "from sklearn.model_selection import train_test_split\n",
    "X_train, X_test, y_train, y_test = train_test_split(df[['USD', 'GBP', 'EUR', 'INR', 'AED','CNY']], df['Date'], test_size=0.2, random_state=42)\n",
    "\n"
   ]
  },
  {
   "cell_type": "code",
   "execution_count": 16,
   "metadata": {},
   "outputs": [
    {
     "data": {
      "text/plain": [
       "RandomForestRegressor(random_state=42)"
      ]
     },
     "execution_count": 16,
     "metadata": {},
     "output_type": "execute_result"
    }
   ],
   "source": [
    "\n",
    "# use another rl model\n",
    "from sklearn.ensemble import RandomForestRegressor\n",
    "model = RandomForestRegressor(n_estimators=100, random_state=42)\n",
    "model.fit(X_train, y_train)"
   ]
  },
  {
   "cell_type": "code",
   "execution_count": 17,
   "metadata": {},
   "outputs": [],
   "source": [
    "\n",
    "# predict\n",
    "y_pred = model.predict(X_test)"
   ]
  },
  {
   "cell_type": "code",
   "execution_count": 24,
   "metadata": {},
   "outputs": [
    {
     "data": {
      "text/html": [
       "<div>\n",
       "<style scoped>\n",
       "    .dataframe tbody tr th:only-of-type {\n",
       "        vertical-align: middle;\n",
       "    }\n",
       "\n",
       "    .dataframe tbody tr th {\n",
       "        vertical-align: top;\n",
       "    }\n",
       "\n",
       "    .dataframe thead th {\n",
       "        text-align: right;\n",
       "    }\n",
       "</style>\n",
       "<table border=\"1\" class=\"dataframe\">\n",
       "  <thead>\n",
       "    <tr style=\"text-align: right;\">\n",
       "      <th></th>\n",
       "      <th>Date</th>\n",
       "      <th>Actual</th>\n",
       "      <th>Predicted</th>\n",
       "    </tr>\n",
       "  </thead>\n",
       "  <tbody>\n",
       "    <tr>\n",
       "      <th>9326</th>\n",
       "      <td>1601424000000000000</td>\n",
       "      <td>1601424000000000000</td>\n",
       "      <td>1.602597e+18</td>\n",
       "    </tr>\n",
       "    <tr>\n",
       "      <th>5017</th>\n",
       "      <td>1080172800000000000</td>\n",
       "      <td>1080172800000000000</td>\n",
       "      <td>1.086827e+18</td>\n",
       "    </tr>\n",
       "    <tr>\n",
       "      <th>4726</th>\n",
       "      <td>1045008000000000000</td>\n",
       "      <td>1045008000000000000</td>\n",
       "      <td>1.043601e+18</td>\n",
       "    </tr>\n",
       "    <tr>\n",
       "      <th>5546</th>\n",
       "      <td>1144195200000000000</td>\n",
       "      <td>1144195200000000000</td>\n",
       "      <td>1.144747e+18</td>\n",
       "    </tr>\n",
       "    <tr>\n",
       "      <th>5042</th>\n",
       "      <td>1083196800000000000</td>\n",
       "      <td>1083196800000000000</td>\n",
       "      <td>1.084482e+18</td>\n",
       "    </tr>\n",
       "  </tbody>\n",
       "</table>\n",
       "</div>"
      ],
      "text/plain": [
       "                     Date               Actual     Predicted\n",
       "9326  1601424000000000000  1601424000000000000  1.602597e+18\n",
       "5017  1080172800000000000  1080172800000000000  1.086827e+18\n",
       "4726  1045008000000000000  1045008000000000000  1.043601e+18\n",
       "5546  1144195200000000000  1144195200000000000  1.144747e+18\n",
       "5042  1083196800000000000  1083196800000000000  1.084482e+18"
      ]
     },
     "execution_count": 24,
     "metadata": {},
     "output_type": "execute_result"
    }
   ],
   "source": [
    "# showing results in a dataframe\n",
    "df_results = pd.DataFrame({'Date': y_test, 'Actual': y_test, 'Predicted': y_pred})\n",
    "df_results.head()"
   ]
  },
  {
   "cell_type": "code",
   "execution_count": 18,
   "metadata": {},
   "outputs": [
    {
     "data": {
      "image/png": "[encoded data removed]",
      "text/plain": [
       "<Figure size 1440x720 with 1 Axes>"
      ]
     },
     "metadata": {
      "needs_background": "light"
     },
     "output_type": "display_data"
    }
   ],
   "source": [
    "\n",
    "# plot\n",
    "plt.figure(figsize=(20,10))\n",
    "plt.plot(y_test, color='blue', label='Actual')\n",
    "plt.plot(y_pred, color='red', label='Predicted')\n",
    "plt.legend()\n",
    "plt.show()"
   ]
  },
  {
   "cell_type": "code",
   "execution_count": 19,
   "metadata": {},
   "outputs": [
    {
     "name": "stdout",
     "output_type": "stream",
     "text": [
      "7652879207130566.0\n"
     ]
    }
   ],
   "source": [
    "# evaluate\n",
    "from sklearn.metrics import mean_squared_error\n",
    "from math import sqrt\n",
    "rms = sqrt(mean_squared_error(y_test, y_pred))\n",
    "print(rms)"
   ]
  },
  {
   "cell_type": "code",
   "execution_count": 20,
   "metadata": {},
   "outputs": [],
   "source": [
    "\n",
    "# save model\n",
    "import pickle\n",
    "pickle.dump(model, open('model.pkl','wb'))"
   ]
  },
  {
   "cell_type": "code",
   "execution_count": 21,
   "metadata": {},
   "outputs": [],
   "source": [
    "\n",
    "# get accuracy\n",
    "from sklearn.metrics import accuracy_score, confusion_matrix, classification_report\n",
    "# Classification metrics can't handle a mix of multiclass and continuous targets\n",
    "# so we need to convert the target to a binary class\n",
    "y_test_binary = y_test.copy()\n",
    "y_test_binary[y_test_binary > 0] = 1\n",
    "y_pred_binary = y_pred.copy()\n",
    "y_pred_binary[y_pred_binary > 0] = 1"
   ]
  },
  {
   "cell_type": "code",
   "execution_count": 22,
   "metadata": {},
   "outputs": [
    {
     "name": "stdout",
     "output_type": "stream",
     "text": [
      "1.0\n"
     ]
    }
   ],
   "source": [
    "# accuracy\n",
    "accuracy = accuracy_score(y_test_binary, y_pred_binary)\n",
    "print(accuracy)"
   ]
  }
 ],
 "metadata": {
  "interpreter": {
   "hash": "ef7f9a8012d9131766e31894c279374cc63c73121ed4db3b9e67a294a4bf0e74"
  },
  "kernelspec": {
   "display_name": "Python 3",
   "language": "python",
   "name": "python3"
  },
  "language_info": {
   "codemirror_mode": {
    "name": "ipython",
    "version": 3
   },
   "file_extension": ".py",
   "mimetype": "text/x-python",
   "name": "python",
   "nbconvert_exporter": "python",
   "pygments_lexer": "ipython3",
   "version": "3.8.8"
  }
 },
 "nbformat": 4,
 "nbformat_minor": 2
}
